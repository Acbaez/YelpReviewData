{
 "cells": [
  {
   "cell_type": "markdown",
   "metadata": {},
   "source": []
  },
  {
   "cell_type": "code",
   "execution_count": 1,
   "metadata": {},
   "outputs": [],
   "source": [
    "#import necessary packages\n",
    "import json\n",
    "import pandas as pd\n",
    "import time\n",
    "\n",
    "#Read in both data frames\n",
    "#Set filename and read through review JSON file line by line\n",
    "if False:\n",
    "    filename_review = \"/Users/andresbaez/Desktop/COGS108_Project/yelp_dataset/review.json\"\n",
    "    #Create dataframe that will contain review data\n",
    "    df_review = pd.DataFrame()\n",
    "    #go through each JSON object and create a dictionary out of its key-value pairs\n",
    "    st = time.time()\n",
    "    with open(filename_review,'r') as f:\n",
    "        for line in f:\n",
    "            data = json.loads(line)\n",
    "            #append each JSON object to df_review\n",
    "            df_review = df_review.append(data, ignore_index=True)       \n",
    "            if (time.time() - st) > 60:\n",
    "                break\n",
    "    df_review.to_csv(\"/Users/andresbaez/Desktop/COGS108_Project/yelp_dataset/review.csv\")\n",
    "    #Set filename and read through user JSON file line by line\n",
    "    filename_users = \"/Users/andresbaez/Desktop/COGS108_Project/yelp_dataset/user.json\"\n",
    "    #Create dataframe that will contain user data\n",
    "    df_users = pd.DataFrame()\n",
    "    #go through each JSON object and create a dictionary out of its key-value pairs\n",
    "    st = time.time()\n",
    "    with open(filename_users,'r') as f:\n",
    "        for line in f:\n",
    "            data = json.loads(line)\n",
    "            #append each JSON object to df_users\n",
    "            df_users = df_users.append(data, ignore_index=True)\n",
    "            if (time.time() - st) > 60:\n",
    "                break\n",
    "    df_users.to_csv(\"/Users/andresbaez/Desktop/COGS108_Project/yelp_dataset/user.csv\")"
   ]
  },
  {
   "cell_type": "code",
   "execution_count": 2,
   "metadata": {},
   "outputs": [],
   "source": [
    "#Read newly exported CSV files into dataframe\n",
    "df_review = pd.read_csv('./yelp_dataset/review.csv')\n",
    "df_user = pd.read_csv('./yelp_dataset/user.csv')\n",
    "\n",
    "#Start out by dropping columns that are not necessary to our analysis\n",
    "df_review.drop(['business_id','cool','funny','useful'],axis=1,inplace=True)\n",
    "df_user.drop(['friends','compliment_cool','compliment_cute','compliment_funny','compliment_hot','compliment_list',\n",
    "              'compliment_more','compliment_note','compliment_photos','compliment_writer','compliment_plain','compliment_profile',\n",
    "              'cool','fans','funny','name','useful'],axis=1,inplace=True)"
   ]
  },
  {
   "cell_type": "code",
   "execution_count": 6,
   "metadata": {},
   "outputs": [
    {
     "name": "stdout",
     "output_type": "stream",
     "text": [
      "nan\n"
     ]
    }
   ],
   "source": [
    "#Want to parse out year from date (YEAR-DAY-MONTH)\n",
    "def getYear(date):\n",
    "    year = date.split(\"-\")[0]\n",
    "    return year\n",
    "df_review['year'] = df_review['date'].apply(getYear)\n",
    "df_user['year'] = df_user['yelping_since'].apply(getYear)\n",
    "\n",
    "#Connect users to their reviews \n",
    "for ID in df_user[\"user_id\"]:\n",
    "    #print(df_review.loc[df_review[\"user_id\"] == ID])\n",
    "    df_user.loc[df_user[\"user_id\"] == ID, 'reviews'] = df_review.loc[df_review[\"user_id\"] == ID]"
   ]
  },
  {
   "cell_type": "code",
   "execution_count": null,
   "metadata": {},
   "outputs": [],
   "source": []
  }
 ],
 "metadata": {
  "kernelspec": {
   "display_name": "Python 3",
   "language": "python",
   "name": "python3"
  },
  "language_info": {
   "codemirror_mode": {
    "name": "ipython",
    "version": 3
   },
   "file_extension": ".py",
   "mimetype": "text/x-python",
   "name": "python",
   "nbconvert_exporter": "python",
   "pygments_lexer": "ipython3",
   "version": "3.6.8"
  }
 },
 "nbformat": 4,
 "nbformat_minor": 2
}

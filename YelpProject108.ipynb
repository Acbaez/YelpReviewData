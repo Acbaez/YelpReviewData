{
 "cells": [
  {
   "cell_type": "code",
   "execution_count": null,
   "metadata": {},
   "outputs": [],
   "source": [
    "#import necessary packages\n",
    "import json\n",
    "import pandas as pd\n",
    "\n",
    "#set filename and read through JSON file line by line\n",
    "filename = \"/Users/andresbaez/Desktop/COGS108_Project/yelp_dataset/review.json\"\n",
    "df_reviews = pd.DataFrame()\n",
    "with open(filename,'r') as f:\n",
    "    for line in f:\n",
    "        data = json.loads(line)\n",
    "        print(data)\n",
    "        df_reviews = df_reviews.append(data, ignore_index=True)"
   ]
  },
  {
   "cell_type": "code",
   "execution_count": null,
   "metadata": {},
   "outputs": [],
   "source": []
  }
 ],
 "metadata": {
  "kernelspec": {
   "display_name": "Python 3",
   "language": "python",
   "name": "python3"
  },
  "language_info": {
   "codemirror_mode": {
    "name": "ipython",
    "version": 3
   },
   "file_extension": ".py",
   "mimetype": "text/x-python",
   "name": "python",
   "nbconvert_exporter": "python",
   "pygments_lexer": "ipython3",
   "version": "3.6.8"
  }
 },
 "nbformat": 4,
 "nbformat_minor": 2
}

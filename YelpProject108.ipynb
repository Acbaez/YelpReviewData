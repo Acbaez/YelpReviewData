{
 "cells": [
  {
   "cell_type": "markdown",
   "metadata": {},
   "source": []
  },
  {
   "cell_type": "code",
   "execution_count": 1,
   "metadata": {},
   "outputs": [],
   "source": [
    "#import necessary packages\n",
    "import json\n",
    "import pandas as pd\n",
    "import time\n",
    "\n",
    "#Read in both data frames\n",
    "#Set filename and read through review JSON file line by line\n",
    "'''\n",
    "filename_review = \"/Users/andresbaez/Desktop/COGS108_Project/yelp_dataset/review.json\"\n",
    "#Create dataframe that will contain review data\n",
    "df_review = pd.DataFrame()\n",
    "#go through each JSON object and create a dictionary out of its key-value pairs\n",
    "st = time.time()\n",
    "with open(filename_review,'r') as f:\n",
    "    for line in f:\n",
    "        data = json.loads(line)\n",
    "        #append each JSON object to df_review\n",
    "        df_review = df_review.append(data, ignore_index=True)       \n",
    "        if (time.time() - st) > 60:\n",
    "            break\n",
    "df_review.to_csv(\"/Users/andresbaez/Desktop/COGS108_Project/yelp_dataset/review.csv\")\n",
    "#Set filename and read through user JSON file line by line\n",
    "filename_users = \"/Users/andresbaez/Desktop/COGS108_Project/yelp_dataset/user.json\"\n",
    "#Create dataframe that will contain review data\n",
    "df_users = pd.DataFrame()\n",
    "#go through each JSON object and create a dictionary out of its key-value pairs\n",
    "st = time.time()\n",
    "with open(filename_users,'r') as f:\n",
    "    for line in f:\n",
    "        data = json.loads(line)\n",
    "        #append each JSON object to df_users\n",
    "        df_users = df_users.append(data, ignore_index=True)\n",
    "        if (time.time() - st) > 60:\n",
    "            break\n",
    "df_review.to_csv(\"/Users/andresbaez/Desktop/COGS108_Project/yelp_dataset/user.csv\")\n",
    "'''"
   ]
  }
 ],
 "metadata": {
  "kernelspec": {
   "display_name": "Python 3",
   "language": "python",
   "name": "python3"
  },
  "language_info": {
   "codemirror_mode": {
    "name": "ipython",
    "version": 3
   },
   "file_extension": ".py",
   "mimetype": "text/x-python",
   "name": "python",
   "nbconvert_exporter": "python",
   "pygments_lexer": "ipython3",
   "version": "3.6.8"
  }
 },
 "nbformat": 4,
 "nbformat_minor": 2
}

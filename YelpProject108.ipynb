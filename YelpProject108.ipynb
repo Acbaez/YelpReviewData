{
 "cells": [
  {
   "cell_type": "markdown",
   "metadata": {},
   "source": []
  },
  {
   "cell_type": "code",
   "execution_count": 1,
   "metadata": {},
   "outputs": [],
   "source": [
    "#import necessary packages\n",
    "import json\n",
    "import pandas as pd\n",
    "from textblob import TextBlob\n",
    "import time\n",
    "\n",
    "#Read in both data frames\n",
    "#Set filename and read through review JSON file line by line\n",
    "if False:\n",
    "    filename_review = \"/Users/andresbaez/Desktop/COGS108_Project/yelp_dataset/review.json\"\n",
    "    #Create dataframe that will contain review data\n",
    "    df_review = pd.DataFrame()\n",
    "    #go through each JSON object and create a dictionary out of its key-value pairs\n",
    "    st = time.time()\n",
    "    with open(filename_review,'r') as f:\n",
    "        for line in f:\n",
    "            data = json.loads(line)\n",
    "            #append each JSON object to df_review\n",
    "            df_review = df_review.append(data, ignore_index=True)       \n",
    "            if (time.time() - st) > 60:\n",
    "                break\n",
    "    df_review.to_csv(\"/Users/andresbaez/Desktop/COGS108_Project/yelp_dataset/review.csv\")\n",
    "    #Set filename and read through user JSON file line by line\n",
    "    filename_users = \"/Users/andresbaez/Desktop/COGS108_Project/yelp_dataset/user.json\"\n",
    "    #Create dataframe that will contain user data\n",
    "    df_users = pd.DataFrame()\n",
    "    #go through each JSON object and create a dictionary out of its key-value pairs\n",
    "    st = time.time()\n",
    "    with open(filename_users,'r') as f:\n",
    "        for line in f:\n",
    "            data = json.loads(line)\n",
    "            #append each JSON object to df_users\n",
    "            df_users = df_users.append(data, ignore_index=True)\n",
    "            if (time.time() - st) > 60:\n",
    "                break\n",
    "    df_users.to_csv(\"/Users/andresbaez/Desktop/COGS108_Project/yelp_dataset/user.csv\")\n",
    "\n",
    "\n",
    "filename_review = \"/Users/andresbaez/Desktop/COGS108_Project/yelp_dataset/review.json\"\n",
    "#Create dataframe that will contain review data\n",
    "df_review = pd.DataFrame()\n",
    "#go through each JSON object and create a dictionary out of its key-value pairs\n",
    "st = time.time()\n",
    "with open(filename_review,'r') as f:\n",
    "    for line in f:\n",
    "        data = json.loads(line)\n",
    "        #append each JSON object to df_review\n",
    "        df_review = df_review.append(data, ignore_index=True)       \n",
    "        if (time.time() - st) > 300:\n",
    "              break\n",
    "df_review.to_csv(\"/Users/andresbaez/Desktop/COGS108_Project/yelp_dataset/review2.csv\")"
   ]
  },
  {
   "cell_type": "code",
   "execution_count": 3,
   "metadata": {},
   "outputs": [
    {
     "data": {
      "text/plain": [
       "(17288, 6)"
      ]
     },
     "execution_count": 3,
     "metadata": {},
     "output_type": "execute_result"
    }
   ],
   "source": [
    "#Read newly exported CSV files into dataframe\n",
    "df_review = pd.read_csv('./yelp_dataset/review2.csv')\n",
    "df_user = pd.read_csv('./yelp_dataset/user.csv')\n",
    "\n",
    "#Start out by dropping columns that are not necessary to our analysis\n",
    "df_review.drop(['business_id','cool','funny','useful'],axis=1,inplace=True)\n",
    "df_user.drop(['friends','compliment_cool','compliment_cute','compliment_funny','compliment_hot','compliment_list',\n",
    "              'compliment_more','compliment_note','compliment_photos','compliment_writer','compliment_plain','compliment_profile',\n",
    "              'cool','fans','funny','name','useful'],axis=1,inplace=True)\n",
    "#Want to drop any columns where the user has never been an elite member\n",
    "df_user.dropna(subset = ['elite'],inplace=True)\n",
    "\n",
    "#Want to merge our user and review data now that we've dropped unnecessary rows and columns\n",
    "df = pd.merge(df_user,df_review,on='user_id',how='right')\n",
    "df_review.shape"
   ]
  },
  {
   "cell_type": "code",
   "execution_count": null,
   "metadata": {
    "scrolled": true
   },
   "outputs": [],
   "source": [
    "#Want to parse out year from date (YEAR-DAY-MONTH)\n",
    "def getYear(date):\n",
    "    year = date.split(\"-\")[0]\n",
    "    return year\n",
    "\n",
    "#assumes stars is int and reviewText is string\n",
    "def find_sentiment(stars, reviewText):\n",
    "    review = TextBlob(reviewText)\n",
    "    \n",
    "    #convert review sentiment from [-1,1] to [0,5]\n",
    "    reviewScore = (review.sentiment[0] + 1) / 2\n",
    "    reviewScore = reviewScore * 5\n",
    "    \n",
    "    #return average of scores\n",
    "    score = (stars + reviewScore) / 2\n",
    "    return score\n",
    "\n",
    "def isElite(year, user_id):\n",
    "    if year in df['elite']:\n",
    "        return True\n",
    "    else:\n",
    "        return False\n",
    "\n",
    "#Apply function to obtain year from date in both dataframes\n",
    "df_review['year'] = df_review['date'].apply(getYear)\n",
    "df_user['year'] = df_user['yelping_since'].apply(getYear)\n",
    "\n",
    "#Apply function to find if user was an Elite member at the time of the review\n",
    "df_review['Elite_Reviewer'] = df_review.apply(lambda x: isElite(df_review['year'][0], df_review['user_id'][0]), axis=1)"
   ]
  },
  {
   "cell_type": "code",
   "execution_count": null,
   "metadata": {},
   "outputs": [],
   "source": [
    "#Apply function to find sentiment for each review in df_review\n",
    "#df_review['critical_index'] = df_review.apply(lambda x: find_sentiment(df_review['stars'], df_review['text'][0]), axis=1)\n"
   ]
  }
 ],
 "metadata": {
  "kernelspec": {
   "display_name": "Python 3",
   "language": "python",
   "name": "python3"
  },
  "language_info": {
   "codemirror_mode": {
    "name": "ipython",
    "version": 3
   },
   "file_extension": ".py",
   "mimetype": "text/x-python",
   "name": "python",
   "nbconvert_exporter": "python",
   "pygments_lexer": "ipython3",
   "version": "3.6.8"
  }
 },
 "nbformat": 4,
 "nbformat_minor": 2
}

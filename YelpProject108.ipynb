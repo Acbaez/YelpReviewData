{
 "cells": [
  {
   "cell_type": "markdown",
   "metadata": {},
   "source": [
    "# Project Team Members:\n",
    "   **Andres Baez, acbaez@ucsd.edu, A92112700**\n",
    "   \n",
    "   **Catherine Kim, cyk020@ucsd.edu, A12598619**\n",
    "   \n",
    "   **Eric Richards, eorichar@ucsd.edu, A12724500**\n",
    "   \n",
    "   **Ronald Tun, Rtun@ucsd.edu, A12458764 **\n",
    "   \n",
    "   **Janica Kann, jkann@ucsd.edu, A13734650**\n",
    "   \n",
    "   **Myung Sun Kim, msk024@ucsd.edu, A12870165 **"
   ]
  },
  {
   "cell_type": "markdown",
   "metadata": {},
   "source": [
    "# 0. Imports That Allow Our Project to Work: "
   ]
  },
  {
   "cell_type": "code",
   "execution_count": 1,
   "metadata": {},
   "outputs": [],
   "source": [
    "#import necessary packages\n",
    "import json\n",
    "import pandas as pd\n",
    "import numpy as np\n",
    "from textblob import TextBlob\n",
    "import time\n",
    "import matplotlib as mpl \n",
    "import matplotlib.pyplot as plt \n",
    "\n",
    "import statsmodels.formula.api as smf\n",
    "import statsmodels.api as sm\n",
    "import scipy.stats as stats\n",
    "from scipy.stats import ttest_ind, chisquare, normaltest"
   ]
  },
  {
   "cell_type": "markdown",
   "metadata": {},
   "source": [
    "# 1. Introduction and Background:\n",
    "\n",
    "From personal experience using Yelp, we have noticed that users tend to leave more opinionated reviews as they gain more experience reviewing restaurants.  Through this observation, we became curious if users leave “critical” reviews as time passes. In this context, we define the word “critical” as users leaving more reviews with a negative connotation.\n",
    "\n",
    "**Research Question:** Do Yelp users become more critical in their reviews after becoming “Elite” members?\n",
    "\n",
    "**Hypothesis:** After becoming Elite members, users will become more critical in their Yelp reviews compared to their earlier reviews. The Elite status can be used as an indicator of whether a user will become more likely to leave a critical review. \n"
   ]
  },
  {
   "cell_type": "markdown",
   "metadata": {},
   "source": [
    "# 2. Methods:\n",
    "\n",
    "Within Yelp’s academic dataset are 6 .json files, we will be using 2 (review.json, user.json) files for this project. They contain full review text data including the user_id that wrote the review and the business_id the review is written for, as well as user data such as the user's friend mapping and associated metadata.\n",
    "We combined user.json and review.json by matching the 22 character unique user id for each review in review.json to the same 22 character user id in user.json. This will match a review (a text string) to the corresponding user profile data (including whether they are an elite user) available in user.json.\n",
    "\n",
    "We cleaned this, this, and this from this dataset. We utilized this, this, and this from this dataset. \n",
    "We’re looking to see if there is a relationship between the time a user becomes an elite member to how they leave more critical reviews after this status change. We’ll be comparing how the user left reviews prior to becoming an elite member to how the user leaves reviews after the user becomes an Elite member to see if there is a difference.\n"
   ]
  },
  {
   "cell_type": "code",
   "execution_count": 2,
   "metadata": {},
   "outputs": [],
   "source": [
    "#Read in both data frames\n",
    "#Set filename and read through review JSON file line by line\n",
    "if False:\n",
    "    filename_review = \"/Users/andresbaez/Desktop/COGS108_Project/yelp_dataset/review.json\"\n",
    "    #Create dataframe that will contain review data\n",
    "    df_review = pd.DataFrame()\n",
    "    #go through each JSON object and create a dictionary out of its key-value pairs\n",
    "    st = time.time()\n",
    "    with open(filename_review,'r') as f:\n",
    "        for line in f:\n",
    "            data = json.loads(line)\n",
    "            #append each JSON object to df_review\n",
    "            df_review = df_review.append(data, ignore_index=True)       \n",
    "            if (time.time() - st) > 60:\n",
    "                break\n",
    "    df_review.to_csv(\"/Users/andresbaez/Desktop/COGS108_Project/yelp_dataset/review.csv\")\n",
    "    #Set filename and read through user JSON file line by line\n",
    "    filename_users = \"/Users/andresbaez/Desktop/COGS108_Project/yelp_dataset/user.json\"\n",
    "    #Create dataframe that will contain user data\n",
    "    df_users = pd.DataFrame()\n",
    "    #go through each JSON object and create a dictionary out of its key-value pairs\n",
    "    st = time.time()\n",
    "    with open(filename_users,'r') as f:\n",
    "        for line in f:\n",
    "            data = json.loads(line)\n",
    "            #append each JSON object to df_users\n",
    "            df_users = df_users.append(data, ignore_index=True)\n",
    "            if (time.time() - st) > 60:\n",
    "                break\n",
    "    df_users.to_csv(\"/Users/andresbaez/Desktop/COGS108_Project/yelp_dataset/user.csv\")"
   ]
  },
  {
   "cell_type": "markdown",
   "metadata": {},
   "source": [
    "**Dropping **"
   ]
  },
  {
   "cell_type": "code",
   "execution_count": null,
   "metadata": {},
   "outputs": [],
   "source": [
    "#Read newly exported CSV files into dataframe\n",
    "df_review = pd.read_csv('./yelp_dataset/review2.csv')\n",
    "df_user = pd.read_csv('./yelp_dataset/user.csv')"
   ]
  },
  {
   "cell_type": "code",
   "execution_count": null,
   "metadata": {},
   "outputs": [],
   "source": [
    "#Preview DataFrames\n",
    "df_review.head(10)"
   ]
  },
  {
   "cell_type": "code",
   "execution_count": 3,
   "metadata": {},
   "outputs": [],
   "source": [
    "#Start out by dropping columns that are not necessary to our analysis\n",
    "df_review.drop(['business_id','cool','funny','useful'],axis=1,inplace=True)\n",
    "df_user.drop(['friends','compliment_cool','compliment_cute','compliment_funny','compliment_hot','compliment_list',\n",
    "              'compliment_more','compliment_note','compliment_photos','compliment_writer','compliment_plain','compliment_profile',\n",
    "              'cool','fans','funny','name','useful','yelping_since'],axis=1,inplace=True)"
   ]
  },
  {
   "cell_type": "markdown",
   "metadata": {},
   "source": [
    "**Writing Functions**"
   ]
  },
  {
   "cell_type": "code",
   "execution_count": 4,
   "metadata": {
    "scrolled": true
   },
   "outputs": [],
   "source": [
    "#Want to parse out year from date (YEAR-DAY-MONTH)\n",
    "def getYear(date):\n",
    "    year = date.split(\"-\")[0]\n",
    "    return int(year)\n",
    "\n",
    "#assumes stars is int and reviewText is string\n",
    "def find_sentiment(stars, reviewText):\n",
    "    review = TextBlob(reviewText)\n",
    "    \n",
    "    #convert review sentiment from [-1,1] to [0,5]\n",
    "    reviewScore = (review.sentiment[0] + 1) / 2\n",
    "    reviewScore = reviewScore * 5\n",
    "    \n",
    "    #return average of scores\n",
    "    score = (stars + reviewScore) / 2\n",
    "    return score\n",
    "    \n",
    "def Elite(row):    \n",
    "    if row['date'] in row['elite']:\n",
    "        return 1\n",
    "    else: return 0\n",
    "        \n",
    "    \n",
    "def convert_string_to_list(elite):\n",
    "    elite = str(elite)\n",
    "    if elite == \"NaN\" or elite == 'nan':\n",
    "        return\n",
    "    elite.strip()\n",
    "    elite_list = elite.split(',')    \n",
    "    out = []\n",
    "    for item in elite_list:\n",
    "        out.append(int(item))\n",
    "    return list(out)"
   ]
  },
  {
   "cell_type": "markdown",
   "metadata": {},
   "source": [
    "**Averaging sentiment of \"elite\" and non \"elite\" members**"
   ]
  },
  {
   "cell_type": "code",
   "execution_count": 5,
   "metadata": {},
   "outputs": [],
   "source": [
    "#Want to convert string values to int before dropping nulls\n",
    "df_user['elite'] = df_user['elite'].apply(convert_string_to_list)\n",
    "\n",
    "#Want to drop any columns where the user has never been an elite member\n",
    "df_user.dropna(subset =['elite'],inplace=True)\n",
    "\n",
    "#Apply function to obtain year from date in both dataframes\n",
    "df_review['date'] = df_review['date'].apply(getYear)\n",
    "\n",
    "#Want to merge our user and review data now that we've dropped unnecessary rows and columns\n",
    "df = pd.merge(df_user,df_review,on='user_id',how='right')\n",
    "\n",
    "#Drop all rows with users who have never been an elite user\n",
    "df.dropna(subset =['elite'],inplace=True)\n",
    "\n",
    "#Apply function to find if reviewer was elite at the time of their review\n",
    "df['Elite_Reviewer'] = df.apply(lambda row: Elite(row), axis=1)\n",
    "\n",
    "#Apply function to find sentiment for each review in df_review\n",
    "df['critical_index'] = df.apply(lambda row: find_sentiment(row['stars'], row['text']), axis=1)"
   ]
  },
  {
   "cell_type": "code",
   "execution_count": 6,
   "metadata": {},
   "outputs": [],
   "source": [
    "df.head(10)"
   ]
  },
  {
   "cell_type": "markdown",
   "metadata": {},
   "source": [
    "**Statistical Analysis**"
   ]
  },
  {
   "cell_type": "code",
   "execution_count": 7,
   "metadata": {},
   "outputs": [
    {
     "data": {
      "image/png": "[encoded data removed]",
      "text/plain": [
       "<Figure size 432x288 with 1 Axes>"
      ]
     },
     "metadata": {},
     "output_type": "display_data"
    },
    {
     "name": "stdout",
     "output_type": "stream",
     "text": [
      "3.388601360603814\n",
      "3.424377899577682\n",
      "None\n",
      "None\n"
     ]
    }
   ],
   "source": [
    "#boxplot\n",
    "elite_reviews = df.loc[df['Elite_Reviewer'] == True]['critical_index']\n",
    "reviews = df.loc[df['Elite_Reviewer'] == False]['critical_index']\n",
    "\n",
    "data = [reviews, elite_reviews]\n",
    "fig, ax = plt.subplots()\n",
    "ax.boxplot(data)\n",
    "plt.show()\n",
    "\n",
    "elite_sentiment = np.mean(elite_reviews)\n",
    "not_elite_sentiment = np.mean(reviews)\n",
    "\n",
    "print(elite_sentiment)\n",
    "print(not_elite_sentiment)"
   ]
  },
  {
   "cell_type": "markdown",
   "metadata": {},
   "source": [
    "**Linear Regression**"
   ]
  },
  {
   "cell_type": "code",
   "execution_count": 9,
   "metadata": {},
   "outputs": [],
   "source": [
    "smf.glm?"
   ]
  },
  {
   "cell_type": "code",
   "execution_count": 11,
   "metadata": {},
   "outputs": [
    {
     "data": {
      "text/html": [
       "<div>\n",
       "<style scoped>\n",
       "    .dataframe tbody tr th:only-of-type {\n",
       "        vertical-align: middle;\n",
       "    }\n",
       "\n",
       "    .dataframe tbody tr th {\n",
       "        vertical-align: top;\n",
       "    }\n",
       "\n",
       "    .dataframe thead th {\n",
       "        text-align: right;\n",
       "    }\n",
       "</style>\n",
       "<table border=\"1\" class=\"dataframe\">\n",
       "  <thead>\n",
       "    <tr style=\"text-align: right;\">\n",
       "      <th></th>\n",
       "      <th>Unnamed: 0_x</th>\n",
       "      <th>average_stars</th>\n",
       "      <th>elite</th>\n",
       "      <th>review_count</th>\n",
       "      <th>user_id</th>\n",
       "      <th>Unnamed: 0_y</th>\n",
       "      <th>date</th>\n",
       "      <th>review_id</th>\n",
       "      <th>stars</th>\n",
       "      <th>text</th>\n",
       "      <th>Elite_Reviewer</th>\n",
       "      <th>critical_index</th>\n",
       "    </tr>\n",
       "  </thead>\n",
       "  <tbody>\n",
       "    <tr>\n",
       "      <th>0</th>\n",
       "      <td>4.0</td>\n",
       "      <td>4.08</td>\n",
       "      <td>[2015, 2016, 2017, 2018]</td>\n",
       "      <td>361.0</td>\n",
       "      <td>MM4RJAeH6yuaN8oZDSt0RA</td>\n",
       "      <td>10232</td>\n",
       "      <td>2017</td>\n",
       "      <td>dLOTJm1mZA1cErGSSK_N7w</td>\n",
       "      <td>3.0</td>\n",
       "      <td>So, Mom and Dad live in Sun City and this rest...</td>\n",
       "      <td>1</td>\n",
       "      <td>3.074675</td>\n",
       "    </tr>\n",
       "    <tr>\n",
       "      <th>1</th>\n",
       "      <td>27.0</td>\n",
       "      <td>4.16</td>\n",
       "      <td>[2016, 2017]</td>\n",
       "      <td>167.0</td>\n",
       "      <td>djQLJTLA4Tx7TpzYCKIqJQ</td>\n",
       "      <td>10857</td>\n",
       "      <td>2014</td>\n",
       "      <td>cJ0Zfj6jqSDtiLondkMfWw</td>\n",
       "      <td>5.0</td>\n",
       "      <td>Cheap, clean, well maintained and good service...</td>\n",
       "      <td>0</td>\n",
       "      <td>4.291667</td>\n",
       "    </tr>\n",
       "    <tr>\n",
       "      <th>2</th>\n",
       "      <td>39.0</td>\n",
       "      <td>3.64</td>\n",
       "      <td>[2016, 2017, 2018]</td>\n",
       "      <td>318.0</td>\n",
       "      <td>AsYMm_O4H-mwmWbmeACDHw</td>\n",
       "      <td>7161</td>\n",
       "      <td>2015</td>\n",
       "      <td>khzlXZYDJ_lHyrxMAxnQWg</td>\n",
       "      <td>5.0</td>\n",
       "      <td>Excellent resort, we had a great view on the 2...</td>\n",
       "      <td>0</td>\n",
       "      <td>4.186232</td>\n",
       "    </tr>\n",
       "    <tr>\n",
       "      <th>3</th>\n",
       "      <td>89.0</td>\n",
       "      <td>3.80</td>\n",
       "      <td>[2010, 2011, 2012, 2013, 2014, 2015, 2016, 201...</td>\n",
       "      <td>1090.0</td>\n",
       "      <td>Ar3bat-NGasrXDiS7WF8OA</td>\n",
       "      <td>10341</td>\n",
       "      <td>2016</td>\n",
       "      <td>h4Fr7P2sPWo0Q81Lw-xohQ</td>\n",
       "      <td>4.0</td>\n",
       "      <td>Solid 4 Stars...When leaving the establishment...</td>\n",
       "      <td>1</td>\n",
       "      <td>3.689360</td>\n",
       "    </tr>\n",
       "    <tr>\n",
       "      <th>4</th>\n",
       "      <td>106.0</td>\n",
       "      <td>4.30</td>\n",
       "      <td>[2012, 2013, 2014, 2016, 2017, 2018]</td>\n",
       "      <td>398.0</td>\n",
       "      <td>i_EASSNcEqc1JrfdBjBeVw</td>\n",
       "      <td>15264</td>\n",
       "      <td>2013</td>\n",
       "      <td>VMaX2uXSEX3g9NvnoDM_aA</td>\n",
       "      <td>4.0</td>\n",
       "      <td>I went for lunch with a friend, since she had ...</td>\n",
       "      <td>1</td>\n",
       "      <td>3.586310</td>\n",
       "    </tr>\n",
       "  </tbody>\n",
       "</table>\n",
       "</div>"
      ],
      "text/plain": [
       "   Unnamed: 0_x  average_stars  \\\n",
       "0           4.0           4.08   \n",
       "1          27.0           4.16   \n",
       "2          39.0           3.64   \n",
       "3          89.0           3.80   \n",
       "4         106.0           4.30   \n",
       "\n",
       "                                               elite  review_count  \\\n",
       "0                           [2015, 2016, 2017, 2018]         361.0   \n",
       "1                                       [2016, 2017]         167.0   \n",
       "2                                 [2016, 2017, 2018]         318.0   \n",
       "3  [2010, 2011, 2012, 2013, 2014, 2015, 2016, 201...        1090.0   \n",
       "4               [2012, 2013, 2014, 2016, 2017, 2018]         398.0   \n",
       "\n",
       "                  user_id  Unnamed: 0_y  date               review_id  stars  \\\n",
       "0  MM4RJAeH6yuaN8oZDSt0RA         10232  2017  dLOTJm1mZA1cErGSSK_N7w    3.0   \n",
       "1  djQLJTLA4Tx7TpzYCKIqJQ         10857  2014  cJ0Zfj6jqSDtiLondkMfWw    5.0   \n",
       "2  AsYMm_O4H-mwmWbmeACDHw          7161  2015  khzlXZYDJ_lHyrxMAxnQWg    5.0   \n",
       "3  Ar3bat-NGasrXDiS7WF8OA         10341  2016  h4Fr7P2sPWo0Q81Lw-xohQ    4.0   \n",
       "4  i_EASSNcEqc1JrfdBjBeVw         15264  2013  VMaX2uXSEX3g9NvnoDM_aA    4.0   \n",
       "\n",
       "                                                text  Elite_Reviewer  \\\n",
       "0  So, Mom and Dad live in Sun City and this rest...               1   \n",
       "1  Cheap, clean, well maintained and good service...               0   \n",
       "2  Excellent resort, we had a great view on the 2...               0   \n",
       "3  Solid 4 Stars...When leaving the establishment...               1   \n",
       "4  I went for lunch with a friend, since she had ...               1   \n",
       "\n",
       "   critical_index  \n",
       "0        3.074675  \n",
       "1        4.291667  \n",
       "2        4.186232  \n",
       "3        3.689360  \n",
       "4        3.586310  "
      ]
     },
     "execution_count": 11,
     "metadata": {},
     "output_type": "execute_result"
    }
   ],
   "source": [
    "df.head()"
   ]
  },
  {
   "cell_type": "code",
   "execution_count": 14,
   "metadata": {},
   "outputs": [
    {
     "data": {
      "text/html": [
       "<table class=\"simpletable\">\n",
       "<caption>Generalized Linear Model Regression Results</caption>\n",
       "<tr>\n",
       "  <th>Dep. Variable:</th>   <td>Elite_Reviewer</td>  <th>  No. Observations:  </th>  <td>   790</td>  \n",
       "</tr>\n",
       "<tr>\n",
       "  <th>Model:</th>                 <td>GLM</td>       <th>  Df Residuals:      </th>  <td>   788</td>  \n",
       "</tr>\n",
       "<tr>\n",
       "  <th>Model Family:</th>       <td>Binomial</td>     <th>  Df Model:          </th>  <td>     1</td>  \n",
       "</tr>\n",
       "<tr>\n",
       "  <th>Link Function:</th>        <td>logit</td>      <th>  Scale:             </th> <td>  1.0000</td> \n",
       "</tr>\n",
       "<tr>\n",
       "  <th>Method:</th>               <td>IRLS</td>       <th>  Log-Likelihood:    </th> <td> -383.80</td> \n",
       "</tr>\n",
       "<tr>\n",
       "  <th>Date:</th>           <td>Tue, 19 Mar 2019</td> <th>  Deviance:          </th> <td>  767.60</td> \n",
       "</tr>\n",
       "<tr>\n",
       "  <th>Time:</th>               <td>12:59:02</td>     <th>  Pearson chi2:      </th>  <td>  790.</td>  \n",
       "</tr>\n",
       "<tr>\n",
       "  <th>No. Iterations:</th>         <td>4</td>        <th>  Covariance Type:   </th> <td>nonrobust</td>\n",
       "</tr>\n",
       "</table>\n",
       "<table class=\"simpletable\">\n",
       "<tr>\n",
       "         <td></td>           <th>coef</th>     <th>std err</th>      <th>z</th>      <th>P>|z|</th>  <th>[0.025</th>    <th>0.975]</th>  \n",
       "</tr>\n",
       "<tr>\n",
       "  <th>Intercept</th>      <td>    1.7223</td> <td>    0.475</td> <td>    3.626</td> <td> 0.000</td> <td>    0.791</td> <td>    2.653</td>\n",
       "</tr>\n",
       "<tr>\n",
       "  <th>critical_index</th> <td>   -0.0797</td> <td>    0.136</td> <td>   -0.584</td> <td> 0.559</td> <td>   -0.347</td> <td>    0.188</td>\n",
       "</tr>\n",
       "</table>"
      ],
      "text/plain": [
       "<class 'statsmodels.iolib.summary.Summary'>\n",
       "\"\"\"\n",
       "                 Generalized Linear Model Regression Results                  \n",
       "==============================================================================\n",
       "Dep. Variable:         Elite_Reviewer   No. Observations:                  790\n",
       "Model:                            GLM   Df Residuals:                      788\n",
       "Model Family:                Binomial   Df Model:                            1\n",
       "Link Function:                  logit   Scale:                          1.0000\n",
       "Method:                          IRLS   Log-Likelihood:                -383.80\n",
       "Date:                Tue, 19 Mar 2019   Deviance:                       767.60\n",
       "Time:                        12:59:02   Pearson chi2:                     790.\n",
       "No. Iterations:                     4   Covariance Type:             nonrobust\n",
       "==================================================================================\n",
       "                     coef    std err          z      P>|z|      [0.025      0.975]\n",
       "----------------------------------------------------------------------------------\n",
       "Intercept          1.7223      0.475      3.626      0.000       0.791       2.653\n",
       "critical_index    -0.0797      0.136     -0.584      0.559      -0.347       0.188\n",
       "==================================================================================\n",
       "\"\"\""
      ]
     },
     "execution_count": 14,
     "metadata": {},
     "output_type": "execute_result"
    }
   ],
   "source": [
    "res_1 = smf.glm(\"Elite_Reviewer ~ critical_index + sentiment_index\", data = df, family=sm.families.Binomial()).fit()\n",
    "res_1.summary()\n",
    "# print(res_1.summary())"
   ]
  },
  {
   "cell_type": "markdown",
   "metadata": {},
   "source": [
    "# 4. Conclusions:"
   ]
  },
  {
   "cell_type": "markdown",
   "metadata": {},
   "source": [
    "# 5. Future Work:"
   ]
  },
  {
   "cell_type": "markdown",
   "metadata": {},
   "source": [
    "# 6. Resources:"
   ]
  }
 ],
 "metadata": {
  "kernelspec": {
   "display_name": "Python 3",
   "language": "python",
   "name": "python3"
  },
  "language_info": {
   "codemirror_mode": {
    "name": "ipython",
    "version": 3
   },
   "file_extension": ".py",
   "mimetype": "text/x-python",
   "name": "python",
   "nbconvert_exporter": "python",
   "pygments_lexer": "ipython3",
   "version": "3.6.8"
  }
 },
 "nbformat": 4,
 "nbformat_minor": 2
}

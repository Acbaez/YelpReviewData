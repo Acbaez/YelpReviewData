{
 "cells": [
  {
   "cell_type": "markdown",
   "metadata": {},
   "source": [
    "# Project Team Members:\n",
    "   **Andres Baez, acbaez@ucsd.edu, A92112700**\n",
    "   \n",
    "   **Catherine Kim, cyk020@ucsd.edu, A12598619**\n",
    "   \n",
    "   **Eric Richards, eorichar@ucsd.edu, A12724500**\n",
    "   \n",
    "   **Ronald Tun, Rtun@ucsd.edu, A12458764 **\n",
    "   \n",
    "   **Janica Kann, jkann@ucsd.edu, A13734650**\n",
    "   \n",
    "   **Myung Sun Kim, msk024@ucsd.edu, A12870165 **"
   ]
  },
  {
   "cell_type": "markdown",
   "metadata": {},
   "source": [
    "# 0. Imports That Allow Our Project to Work: "
   ]
  },
  {
   "cell_type": "code",
   "execution_count": 3,
   "metadata": {},
   "outputs": [],
   "source": [
    "#import necessary packages\n",
    "import json\n",
    "import pandas as pd\n",
    "from textblob import TextBlob\n",
    "import time"
   ]
  },
  {
   "cell_type": "markdown",
   "metadata": {},
   "source": [
    "# 1. Introduction and Background:\n",
    "\n",
    "From personal experience using Yelp, we have noticed that users tend to leave more opinionated reviews as they gain more experience reviewing restaurants.  Through this observation, we became curious if users leave “critical” reviews as time passes. In this context, we define the word “critical” as users leaving more reviews with a negative connotation.\n",
    "\n",
    "**Research Question:** Do Yelp users become more critical in their reviews after becoming “Elite” members?\n",
    "\n",
    "**Hypothesis:** After becoming Elite members, users will become more critical in their Yelp reviews compared to their earlier reviews. The Elite status can be used as an indicator of whether a user will become more likely to leave a critical review. \n"
   ]
  },
  {
   "cell_type": "markdown",
   "metadata": {},
   "source": [
    "# 2. Methods:\n",
    "\n",
    "Within Yelp’s academic dataset are 6 .json files, we will be using 2 (review.json, user.json) files for this project. They contain full review text data including the user_id that wrote the review and the business_id the review is written for, as well as user data such as the user's friend mapping and associated metadata.\n",
    "We combined user.json and review.json by matching the 22 character unique user id for each review in review.json to the same 22 character user id in user.json. This will match a review (a text string) to the corresponding user profile data (including whether they are an elite user) available in user.json.\n",
    "\n",
    "We cleaned this, this, and this from this dataset. We utilized this, this, and this from this dataset. \n",
    "We’re looking to see if there is a relationship between the time a user becomes an elite member to how they leave more critical reviews after this status change. We’ll be comparing how the user left reviews prior to becoming an elite member to how the user leaves reviews after the user becomes an Elite member to see if there is a difference.\n"
   ]
  },
  {
   "cell_type": "code",
   "execution_count": 1,
   "metadata": {},
   "outputs": [],
   "source": [
    "#Read in both data frames\n",
    "#Set filename and read through review JSON file line by line\n",
    "if False:\n",
    "    filename_review = \"/Users/andresbaez/Desktop/COGS108_Project/yelp_dataset/review.json\"\n",
    "    #Create dataframe that will contain review data\n",
    "    df_review = pd.DataFrame()\n",
    "    #go through each JSON object and create a dictionary out of its key-value pairs\n",
    "    st = time.time()\n",
    "    with open(filename_review,'r') as f:\n",
    "        for line in f:\n",
    "            data = json.loads(line)\n",
    "            #append each JSON object to df_review\n",
    "            df_review = df_review.append(data, ignore_index=True)       \n",
    "            if (time.time() - st) > 60:\n",
    "                break\n",
    "    df_review.to_csv(\"/Users/andresbaez/Desktop/COGS108_Project/yelp_dataset/review.csv\")\n",
    "    #Set filename and read through user JSON file line by line\n",
    "    filename_users = \"/Users/andresbaez/Desktop/COGS108_Project/yelp_dataset/user.json\"\n",
    "    #Create dataframe that will contain user data\n",
    "    df_users = pd.DataFrame()\n",
    "    #go through each JSON object and create a dictionary out of its key-value pairs\n",
    "    st = time.time()\n",
    "    with open(filename_users,'r') as f:\n",
    "        for line in f:\n",
    "            data = json.loads(line)\n",
    "            #append each JSON object to df_users\n",
    "            df_users = df_users.append(data, ignore_index=True)\n",
    "            if (time.time() - st) > 60:\n",
    "                break\n",
    "    df_users.to_csv(\"/Users/andresbaez/Desktop/COGS108_Project/yelp_dataset/user.csv\")"
   ]
  },
  {
   "cell_type": "markdown",
   "metadata": {},
   "source": [
    "**PLACEHOLDER**"
   ]
  },
  {
   "cell_type": "code",
   "execution_count": 2,
   "metadata": {},
   "outputs": [
    {
     "ename": "NameError",
     "evalue": "name 'pd' is not defined",
     "output_type": "error",
     "traceback": [
      "\u001b[0;31m---------------------------------------------------------------------------\u001b[0m",
      "\u001b[0;31mNameError\u001b[0m                                 Traceback (most recent call last)",
      "\u001b[0;32m<ipython-input-2-340553d245a6>\u001b[0m in \u001b[0;36m<module>\u001b[0;34m()\u001b[0m\n\u001b[1;32m      1\u001b[0m \u001b[0;31m#Read newly exported CSV files into dataframe\u001b[0m\u001b[0;34m\u001b[0m\u001b[0;34m\u001b[0m\u001b[0;34m\u001b[0m\u001b[0m\n\u001b[0;32m----> 2\u001b[0;31m \u001b[0mdf_review\u001b[0m \u001b[0;34m=\u001b[0m \u001b[0mpd\u001b[0m\u001b[0;34m.\u001b[0m\u001b[0mread_csv\u001b[0m\u001b[0;34m(\u001b[0m\u001b[0;34m'./yelp_dataset/review2.csv'\u001b[0m\u001b[0;34m)\u001b[0m\u001b[0;34m\u001b[0m\u001b[0;34m\u001b[0m\u001b[0m\n\u001b[0m\u001b[1;32m      3\u001b[0m \u001b[0mdf_user\u001b[0m \u001b[0;34m=\u001b[0m \u001b[0mpd\u001b[0m\u001b[0;34m.\u001b[0m\u001b[0mread_csv\u001b[0m\u001b[0;34m(\u001b[0m\u001b[0;34m'./yelp_dataset/user.csv'\u001b[0m\u001b[0;34m)\u001b[0m\u001b[0;34m\u001b[0m\u001b[0;34m\u001b[0m\u001b[0m\n\u001b[1;32m      4\u001b[0m \u001b[0;34m\u001b[0m\u001b[0m\n\u001b[1;32m      5\u001b[0m \u001b[0;31m#Start out by dropping columns that are not necessary to our analysis\u001b[0m\u001b[0;34m\u001b[0m\u001b[0;34m\u001b[0m\u001b[0;34m\u001b[0m\u001b[0m\n",
      "\u001b[0;31mNameError\u001b[0m: name 'pd' is not defined"
     ]
    }
   ],
   "source": [
    "#Read newly exported CSV files into dataframe\n",
    "df_review = pd.read_csv('./yelp_dataset/review2.csv')\n",
    "df_user = pd.read_csv('./yelp_dataset/user.csv')\n",
    "\n",
    "#Start out by dropping columns that are not necessary to our analysis\n",
    "df_review.drop(['business_id','cool','funny','useful'],axis=1,inplace=True)\n",
    "df_user.drop(['friends','compliment_cool','compliment_cute','compliment_funny','compliment_hot','compliment_list',\n",
    "              'compliment_more','compliment_note','compliment_photos','compliment_writer','compliment_plain','compliment_profile',\n",
    "              'cool','fans','funny','name','useful'],axis=1,inplace=True)\n",
    "#Want to drop any columns where the user has never been an elite member\n",
    "df_user.dropna(subset = ['elite'],inplace=True)\n",
    "\n",
    "#Want to merge our user and review data now that we've dropped unnecessary rows and columns\n",
    "df = pd.merge(df_user,df_review,on='user_id',how='right')\n",
    "df_review.shape"
   ]
  },
  {
   "cell_type": "code",
   "execution_count": null,
   "metadata": {
    "scrolled": true
   },
   "outputs": [],
   "source": [
    "#Want to parse out year from date (YEAR-DAY-MONTH)\n",
    "def getYear(date):\n",
    "    year = date.split(\"-\")[0]\n",
    "    return year\n",
    "\n",
    "#assumes stars is int and reviewText is string\n",
    "def find_sentiment(stars, reviewText):\n",
    "    review = TextBlob(reviewText)\n",
    "    \n",
    "    #convert review sentiment from [-1,1] to [0,5]\n",
    "    reviewScore = (review.sentiment[0] + 1) / 2\n",
    "    reviewScore = reviewScore * 5\n",
    "    \n",
    "    #return average of scores\n",
    "    score = (stars + reviewScore) / 2\n",
    "    return score\n",
    "\n",
    "def isElite(year, user_id):\n",
    "    if year in df['elite']:\n",
    "        return True\n",
    "    else:\n",
    "        return False\n",
    "\n",
    "#Apply function to obtain year from date in both dataframes\n",
    "df_review['year'] = df_review['date'].apply(getYear)\n",
    "df_user['year'] = df_user['yelping_since'].apply(getYear)\n",
    "\n",
    "#Apply function to find if user was an Elite member at the time of the review\n",
    "df_review['Elite_Reviewer'] = df_review.apply(lambda x: isElite(df_review['year'][0], df_review['user_id'][0]), axis=1)"
   ]
  },
  {
   "cell_type": "code",
   "execution_count": null,
   "metadata": {},
   "outputs": [],
   "source": [
    "#Apply function to find sentiment for each review in df_review\n",
    "#df_review['critical_index'] = df_review.apply(lambda x: find_sentiment(df_review['stars'], df_review['text'][0]), axis=1)\n"
   ]
  },
  {
   "cell_type": "markdown",
   "metadata": {},
   "source": [
    "# 4. Conclusions:"
   ]
  },
  {
   "cell_type": "markdown",
   "metadata": {},
   "source": [
    "# 5. Future Work:"
   ]
  },
  {
   "cell_type": "markdown",
   "metadata": {},
   "source": [
    "# 6. Resources:"
   ]
  }
 ],
 "metadata": {
  "kernelspec": {
   "display_name": "Python 3",
   "language": "python",
   "name": "python3"
  },
  "language_info": {
   "codemirror_mode": {
    "name": "ipython",
    "version": 3
   },
   "file_extension": ".py",
   "mimetype": "text/x-python",
   "name": "python",
   "nbconvert_exporter": "python",
   "pygments_lexer": "ipython3",
   "version": "3.6.8"
  }
 },
 "nbformat": 4,
 "nbformat_minor": 2
}

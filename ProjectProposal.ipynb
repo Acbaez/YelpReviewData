{
 "cells": [
  {
   "cell_type": "markdown",
   "metadata": {},
   "source": [
    "# COGS 108 - Project Proposal"
   ]
  },
  {
   "cell_type": "markdown",
   "metadata": {},
   "source": [
    "## Important\n",
    "\n",
    "- Make sure all group members (3-6 people) are listed in the group members section.\n",
    "- ONE, and only one, member of your group should upload this notebook to TritonED. \n",
    "- Each member of the group will receive the same grade on this assignment. \n",
    "- Keep the file name the same: submit the file 'ProjectProposal.ipynb'"
   ]
  },
  {
   "cell_type": "markdown",
   "metadata": {},
   "source": [
    "## Overview"
   ]
  },
  {
   "cell_type": "markdown",
   "metadata": {},
   "source": [
    "Read the project description and detailed instructions for this assignment in the 'ProjectOutline' document."
   ]
  },
  {
   "cell_type": "markdown",
   "metadata": {},
   "source": [
    "## Group Members: Fill in the Student IDs of each group member here\n",
    "\n",
    "Replace the lines below to list each persons full student ID. Add lines as needed for your group size, and make sure each ID is listed on a separate line. \n",
    "\n",
    "- A12458764\n",
    "- A12724500\n",
    "- A92112700\t\n",
    "- A13734650\n",
    "- A12598619\n",
    "- A12870165\n"
   ]
  },
  {
   "cell_type": "markdown",
   "metadata": {},
   "source": [
    "### Research Question\n",
    "\n",
    "What is your research question? (1-2 sentences)"
   ]
  },
  {
   "cell_type": "markdown",
   "metadata": {},
   "source": [
    "Do Yelp users become more critical in their reviews after becoming “Elite” members?"
   ]
  },
  {
   "cell_type": "markdown",
   "metadata": {},
   "source": [
    "### Hypothesis\n",
    "\n",
    "What is your main hypothesis and predictions? (2-3 sentences)"
   ]
  },
  {
   "cell_type": "markdown",
   "metadata": {},
   "source": [
    "After becoming Elite members, users will become more critical in their Yelp reviews compared to their earlier reviews. The Elite status can be used as an indicator of whether a user will become more apt to leave a critical review.\n"
   ]
  },
  {
   "cell_type": "markdown",
   "metadata": {},
   "source": [
    "### Dataset(s)\n",
    "\n",
    "What data will you use to answer your question? Describe the dataset(s) in terms of number of observations, what kind of features it contains, etc. You must use at least one dataset containing at least approximately 1000 observations (if your data are smaller but you feel they are sufficient, email Prof. Voytek). You are welcome (and in fact recommended) to find multiple datasets! If you do so, describe each one, and briefly explain how you will combine them together. "
   ]
  },
  {
   "cell_type": "markdown",
   "metadata": {},
   "source": [
    "- Dataset Name: review.json\n",
    "- Link to the dataset: https://www.yelp.com/dataset\n",
    "- Number of observations: 6,685,900\n",
    "\n",
    "\n",
    "- Dataset Name: user.json\n",
    "- Link to the dataset: https://www.yelp.com/dataset\n",
    "- Number of observations: 1,637,138 users\n",
    "\n",
    "The datasets are a part of Yelp’s larger academic dataset that includes (among other data) 6,685,900 reviews, 192,609 businesses, and 1,637,138 user profiles across 2 countries and 10 metropolitan areas. Within the academic dataset are 6 .json files, 2 of which (review.json, user.json) are of interest to our group as they hold full review text data including the user_id that wrote the review and the business_id the review is written for, as well as user data such as the user's friend mapping and associated metadata.\n",
    "If you plan to use multiple datasets, add 1-2 sentences about how you plan to combine these datasets.\n",
    "We plan to combine user.json and review.json by matching the 22 character unique user id for each review in review.json to the same 22 character user id in user.json. This will match a review (a text string) to the corresponding user profile data (including whether they are an elite user) available in user.json.\n"
   ]
  },
  {
   "cell_type": "markdown",
   "metadata": {},
   "source": [
    "### Background and Prior Work\n",
    "\n",
    "Why is this question of interest, what background information led you to your hypothesis, and why is this important?\n",
    "\n",
    "Find some relevant prior work, and reference those sources. Even if you think you have a totally novel question, find the most similar prior work that you can and discuss how it relates to your project. \n",
    "\n",
    "References can be research publications, but they need not be. Blogs, github repositories, company websites, etc., are all viable references if they are relevant to your project.\n",
    "\n",
    "(2-3 paragraphs, including at least 2 references)"
   ]
  },
  {
   "cell_type": "markdown",
   "metadata": {},
   "source": [
    "The question became more relevant to us after seeing how Yelp has made its data publicly available for student projects, guaranteeing that we would have a quality dataset to work with. In addition, there is a good amount of text we are interested in processing to determine a comment’s sentiment to determine how critical a user’s review is. From personal experience using Yelp we have noticed that frequent users can be more opinionated than newer users as they have had more experience reviewing restaurants.\n",
    "    \n",
    "Prior work in this area focuses on the network connectivity of Elite users in relation to other members, assessing the Elite user’s contributions and overall impact made through their reviews. It also focuses on the “mysterious” selection criteria for Elite status as it is not stated explicitly by the app, trying to uncover underlying similarities between Elite users.\n",
    "\n",
    "\n",
    "References (include links):\n",
    "- 1)https://snap.stanford.edu/class/cs224w-2014/projects2014/cs224w-32-final.pdf\n",
    "- 2)https://marketingland.com/5-yelp-facts-business-owners-should-know-163054"
   ]
  },
  {
   "cell_type": "markdown",
   "metadata": {},
   "source": [
    "### Proposed Methods\n",
    "\n",
    "What methods will you use to analyze your data?\n",
    "\n",
    "- How 'clean' is the data? To the extent that it requires cleaning, how will you do so?\n",
    "- How will you analyze the data? Be as specific as you can. Briefly mention any pre-processing steps that are required for your methods (for example, checking data distributions and performing any transformations that may be required). Include a brief outline of how you will apply your chosen method(s). \n",
    "- What do you plan to report? Briefly mention any key visualizations you plan to create, and/or the kind of results you will be able to report that address your question (this could be, for example, the outcome of some statistical test(s), prediction error on a model, a model fit parameter, etc.).\n",
    "- Include a list of packages you expect to use for you project. If you plan to use packages we have not used in class, add a very brief description about them (a few words is sufficient). "
   ]
  },
  {
   "cell_type": "markdown",
   "metadata": {},
   "source": [
    "There exists a few extraneous variables for review.json and user.json that aren’t required for the answer we’re attempting to answer. Data cleanup is minimal, but the reviews from review.json will need to be combined with the user from user.json that wrote the review. These two datasets are from the same source, and are explicitly meant for data analysis, so they are very clean.\n",
    "\n",
    "In order to view the relationship that time and positivity of reviews is, we’ll need to first get the data into a form that will better help us. The first thing we need to do is merge the two datasets we have, so we can view how a user’s ratings and reviews change when they become an elite member. We’re looking for a relation between the two, making note of any correlation. From here, we’ll be able to fit a predictive model, that will try to use to predict a change in a user’s ratings after they’ve become elite members. This will give us  We will calculate the average prediction error for this model.\n",
    "\n",
    "\n",
    "We’re looking for the effect that time and elite membership have on ratings and reviews. We’ll be looking at how old the review is relative to when the user started yelping, as well as the rating relative to the user’s average rating to see the overall trend of ratings over time.\n",
    "\n",
    "Packages we plan to use:\n",
    "- Matplotlib\n",
    "- Pandas\n",
    "- Numpy"
   ]
  },
  {
   "cell_type": "markdown",
   "metadata": {},
   "source": [
    "### Ethics and Privacy\n",
    "\n",
    "Briefly acknowledge and address any potential issues of ethics and privacy for the proposed project. In particular:\n",
    "- Do you have permission to use this data, for this purpose?\n",
    "- Are there privacy concerns regarding your datasets that you need to deal with, and/or terms of use that you need to comply with?\n",
    "- Are there potential biases in your dataset(s), in terms of who it composes, and how it was collected, that may be problematic in terms of it allowing for equitable analysis? (For example, does your data exclude particular populations, or is it likely to reflect particular human biases in a way that could be a problem?) \n",
    "- Are there any other issues related to your topic area, data, and/or analyses that are potentially problematic in terms of data privacy and equitable impact?\n",
    "- How will you handle any issues you identify?\n",
    "\n",
    "According to Yelp, we’re able to use the dataset, as long as it is for academic purposes. The only privacy concerns or terms of use are that if the project were to be published, our project would not be able to disclose the contents of the dataset. In terms of biases, our data was taken from two countries and ten metropolitan areas, so our dataset would be pretty diverse, and not exclude certain populations."
   ]
  },
  {
   "cell_type": "markdown",
   "metadata": {},
   "source": [
    "### Discussion\n",
    "\n",
    "Discuss your project, looking forward to what your results might mean, how they fit it in with what is already known, and what problems you may encounter. \n",
    "\n",
    "In particular:\n",
    "- If your analyses and hypotheses are correct, what will be the contribution of this project to the topic domain? \n",
    "- Alternatively, what will you do if you methods don't work and/or your hypotheses are wrong? \n",
    "- What are the potential pitfalls and potential confounds of your data and/or methods that may cause problems, and/or influence your interpretations?\n",
    "\n",
    "Our question we are researching is if Yelp users become more critical in their reviews after they become Elite members of Yelp. The results might mean that people change or do not change the way they review after gaining the status of Elite members. This fits into what is already known because we have noticed that Elite members tend to leave more critical reviews but we want to prove this statement with actual data. Some problems we may encounter would be deciding what to count as critical or not. Another problem we may encounter is that the users may have left critical reviews from the beginning and there is not a difference in critical reviews after they become Elite members. Furthermore, another possible problem is that we find a correlation between a user having more critical reviews after being an Elite member but it is not due to the change in status but from other factors we are not measuring. \n",
    "If our analyses and hypotheses are correct, this finding will reveal that a change in status to Elite member can alter the way a user leaves reviews. If our methods don’t work and our hypotheses are wrong, we will know that there was no correlation in users leaving more critical reviews after they become Elite members. We would also reveal that our method and/or hypotheses are wrong, and provide an alternative way to approach the problem to someone who would study this problem in the future.\n"
   ]
  },
  {
   "cell_type": "markdown",
   "metadata": {},
   "source": [
    "*Fill in your discussion information here*"
   ]
  }
 ],
 "metadata": {
  "kernelspec": {
   "display_name": "Python 3",
   "language": "python",
   "name": "python3"
  },
  "language_info": {
   "codemirror_mode": {
    "name": "ipython",
    "version": 3
   },
   "file_extension": ".py",
   "mimetype": "text/x-python",
   "name": "python",
   "nbconvert_exporter": "python",
   "pygments_lexer": "ipython3",
   "version": "3.6.8"
  }
 },
 "nbformat": 4,
 "nbformat_minor": 2
}

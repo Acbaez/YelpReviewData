{
 "cells": [
  {
   "cell_type": "markdown",
   "metadata": {},
   "source": [
    "# Project Team Members:\n",
    "   **Andres Baez, acbaez@ucsd.edu, A92112700**\n",
    "   \n",
    "   **Catherine Kim, cyk020@ucsd.edu, A12598619**\n",
    "   \n",
    "   **Eric Richards, eorichar@ucsd.edu, A12724500**\n",
    "   \n",
    "   **Ronald Tun, Rtun@ucsd.edu, A12458764 **\n",
    "   \n",
    "   **Janica Kann, jkann@ucsd.edu, A13734650**\n",
    "   \n",
    "   **Myung Sun Kim, msk024@ucsd.edu, A12870165 **"
   ]
  },
  {
   "cell_type": "markdown",
   "metadata": {},
   "source": [
    "# 1. Introduction and Background:\n",
    "\n",
    "Yelp is a mobile app and desktop website that allows users to view restaurants and services based on ratings, location, and price. Users can also see pictures of food, menu, and the general space. In addition, users can leave reviews on Yelp to help other users decide on using that particular service/restaurant. For users that Yelp deems as “cultural ambassadors” to a city, they receive the title of “Elite.” For this project, we are focusing on how “Elite” members of Yelp leave reviews.\n",
    "\n",
    "From personal experience using Yelp, we have noticed that users tend to leave more opinionated reviews as they gain more experience reviewing restaurants. Through this observation, we became curious if users leave more “critical” reviews if they are Elite members. The question became more relevant to us after seeing how Yelp has made its data publicly available for student projects, guaranteeing that we would have a quality dataset to work with. In the context of this project, we define the word “critical” as users leaving more reviews with a negative connotation. With this background, we formed the following research question and hypothesis.\n",
    "\n",
    "\n",
    "**Research Question:** Are Yelp users more critical in their reviews when they have an “Elite” title verses when they don’t?\n",
    "\n",
    "**Hypothesis:**  When a user is an Elite member, their reviews will be more critical compared to when they are not an Elite member."
   ]
  },
  {
   "cell_type": "markdown",
   "metadata": {},
   "source": [
    "# Member Contributions\n",
    "\n",
    "Our team consists of six members. All of our members worked on finalizing the topic, research question, hypothesis, and defining the methods for data cleaning, visualization, and analysis. Specifically: \n",
    "\n",
    "**Andres** took the lead on writing the methods for...\n",
    "\n",
    "**Ronald** took the lead on writing the methods for...\n",
    "\n",
    "**Janica** took the lead on researching the ethics and privacy information behind the data, and coming up with any issue that can arise from these.\n",
    "\n",
    "**Eric** took the lead on analyzing the data and drawing a conclusion about our hypothesis as well as writing a discussion on our results. \n",
    "\n",
    "**Catherine** took the lead on writing the introduction/background and descriptions for the methods in data cleaning, data visualization, data analysis, and results.\n",
    "\n",
    "**Myung** took the lead on writing the introduction/background and descriptions for the methods in data cleaning, data visualization, data analysis, and results.\n"
   ]
  },
  {
   "cell_type": "markdown",
   "metadata": {},
   "source": [
    "# Privacy and Ethics Considerations\n",
    "\n",
    "According to Yelp, we’re able to use the dataset, as long as it is for academic purposes. The only privacy concerns or terms of use are that if the project were to be published, our project is not able to disclose the contents of the dataset. In terms of biases, our data was taken from two countries and ten metropolitan areas, so our dataset is pretty diverse, and not exclude certain populations. As for issues, since our dataset includes yelp users who have reviewed locations within the ten metropolitan cities, if someone were to obtain our data, they could identify someone’s user ID and first name, and be able to track multiple locations that a person has frequented within a city. To prevent this issue, we dropped the columns that included the first name of the yelp reviewers and their locations within our dataset.\n"
   ]
  },
  {
   "cell_type": "markdown",
   "metadata": {},
   "source": [
    "# 0. Imports That Allow Our Project to Work: "
   ]
  },
  {
   "cell_type": "code",
   "execution_count": null,
   "metadata": {},
   "outputs": [],
   "source": [
    "#import necessary packages\n",
    "import json\n",
    "import pandas as pd\n",
    "import numpy as np\n",
    "from textblob import TextBlob\n",
    "import time\n",
    "import matplotlib as mpl \n",
    "import matplotlib.pyplot as plt \n",
    "\n",
    "import statsmodels.formula.api as smf\n",
    "import statsmodels.api as sm\n",
    "import scipy.stats as stats\n",
    "from scipy.stats import ttest_ind, chisquare, normaltest"
   ]
  },
  {
   "cell_type": "markdown",
   "metadata": {},
   "source": [
    "# 1. Data Description:\n",
    "\n",
    "Dataset #1 \n",
    "\n",
    "Dataset Name: review.json\n",
    "\n",
    "Link to the dataset: https://www.yelp.com/dataset\n",
    "\n",
    "Number of observations: 6,685,900\n",
    "Dataset #2 \n",
    "\n",
    "Dataset Name: user.json\n",
    "\n",
    "Link to the dataset: https://www.yelp.com/dataset\n",
    "\n",
    "Number of observations: 1,637,138 users\n",
    "\n",
    "The datasets we will be analyzing to answer our hypothesis are a part of Yelp’s larger academic dataset that includes (among other data) 6,685,900 reviews, 192,609 businesses, and 1,637,138 user profiles across 2 countries and 10 metropolitan areas. Within the academic dataset are 6 .json files. We will be using 2 (review.json, user.json) files for this project. They contain full review text data including the user_id that wrote the review and the business_id the review is written for, as well as user data such as the user's friend mapping and associated metadata.\n"
   ]
  },
  {
   "cell_type": "markdown",
   "metadata": {},
   "source": [
    "# 2. Data Cleaning/Pre-Processing:\n",
    "\n",
    "Within Yelp’s academic dataset are 6 .json files, we will be using 2 (review.json, user.json) files for this project. They contain full review text data including the user_id that wrote the review and the business_id the review is written for, as well as user data such as the user's friend mapping and associated metadata.\n",
    "We combined user.json and review.json by matching the 22 character unique user id for each review in review.json to the same 22 character user id in user.json. This will match a review (a text string) to the corresponding user profile data (including whether they are an elite user) available in user.json.\n",
    "\n",
    "We cleaned this, this, and this from this dataset. We utilized this, this, and this from this dataset. \n",
    "We’re looking to see if there is a relationship between the time a user becomes an elite member to how they leave more critical reviews after this status change. We’ll be comparing how the user left reviews prior to becoming an elite member to how the user leaves reviews after the user becomes an Elite member to see if there is a difference.\n"
   ]
  },
  {
   "cell_type": "code",
   "execution_count": null,
   "metadata": {},
   "outputs": [],
   "source": [
    "#Read in both data frames\n",
    "#Set filename and read through review JSON file line by line\n",
    "if False:\n",
    "    filename_review = \"/Users/andresbaez/Desktop/COGS108_Project/yelp_dataset/review.json\"\n",
    "    #Create dataframe that will contain review data\n",
    "    df_review = pd.DataFrame()\n",
    "    #go through each JSON object and create a dictionary out of its key-value pairs\n",
    "    st = time.time()\n",
    "    with open(filename_review,'r') as f:\n",
    "        for line in f:\n",
    "            data = json.loads(line)\n",
    "            #append each JSON object to df_review\n",
    "            df_review = df_review.append(data, ignore_index=True)       \n",
    "            if (time.time() - st) > 60:\n",
    "                break\n",
    "    df_review.to_csv(\"/Users/andresbaez/Desktop/COGS108_Project/yelp_dataset/review.csv\")\n",
    "    #Set filename and read through user JSON file line by line\n",
    "    filename_users = \"/Users/andresbaez/Desktop/COGS108_Project/yelp_dataset/user.json\"\n",
    "    #Create dataframe that will contain user data\n",
    "    df_users = pd.DataFrame()\n",
    "    #go through each JSON object and create a dictionary out of its key-value pairs\n",
    "    st = time.time()\n",
    "    with open(filename_users,'r') as f:\n",
    "        for line in f:\n",
    "            data = json.loads(line)\n",
    "            #append each JSON object to df_users\n",
    "            df_users = df_users.append(data, ignore_index=True)\n",
    "            if (time.time() - st) > 60:\n",
    "                break\n",
    "    df_users.to_csv(\"/Users/andresbaez/Desktop/COGS108_Project/yelp_dataset/user.csv\")"
   ]
  },
  {
   "cell_type": "markdown",
   "metadata": {},
   "source": [
    "**Previewing Our Data:** In this section of code below, we are reading in the csv file and previewing the datasets."
   ]
  },
  {
   "cell_type": "code",
   "execution_count": null,
   "metadata": {},
   "outputs": [],
   "source": [
    "#Read newly exported CSV files into dataframe\n",
    "df_review = pd.read_csv('./yelp_dataset/review2.csv')\n",
    "df_user = pd.read_csv('./yelp_dataset/user.csv')\n",
    "\n",
    "#Preview DataFrames\n",
    "df_review.head(10)"
   ]
  },
  {
   "cell_type": "markdown",
   "metadata": {},
   "source": [
    "**Dropping Columns:** From the review dataframe, we dropped the following columns: business_id, cool, funny, useful. From the user dataframe, we dropped the following columns: friends, compliment_cool, compliment_cute, compliment_funny, compliment_hot, compliment_list, compliment_more, compliment_note, compliment_photos, compliment_writer, compliment_plain, compliment_profile, cool, fans, funny, name, useful."
   ]
  },
  {
   "cell_type": "code",
   "execution_count": null,
   "metadata": {},
   "outputs": [],
   "source": [
    "#Start out by dropping columns that are not necessary to our analysis\n",
    "df_review.drop(['business_id','cool','funny','useful'],axis=1,inplace=True)\n",
    "df_user.drop(['friends','compliment_cool','compliment_cute','compliment_funny','compliment_hot','compliment_list',\n",
    "              'compliment_more','compliment_note','compliment_photos','compliment_writer','compliment_plain','compliment_profile',\n",
    "              'cool','fans','funny','name','useful','yelping_since'],axis=1,inplace=True)"
   ]
  },
  {
   "cell_type": "markdown",
   "metadata": {},
   "source": [
    "**Functions for data cleaning:** The getYear function grabs the year from the data column. \n",
    "The find_sentiment function makes a sentiment index that gives a polarity rating (-1, 1). 1 being very positive and -1 being very negative. We then convert this rating to the 1-5 review rating that Yelp users use when rating places. After that, we averaged this converted polarity rating with the original 1-5 star rating to make an overall score that measures the sentiment in a review. \n",
    "The Elite function returns 1 if the review made was during the same year the user became Elite. \n",
    "The convert_string_to_list function charges the giant string of what year a user became an Elite member into a list of integers."
   ]
  },
  {
   "cell_type": "code",
   "execution_count": null,
   "metadata": {
    "scrolled": true
   },
   "outputs": [],
   "source": [
    "#Want to parse out year from date (YEAR-DAY-MONTH)\n",
    "def getYear(date):\n",
    "    year = date.split(\"-\")[0]\n",
    "    return int(year)\n",
    "\n",
    "#assumes stars is int and reviewText is string\n",
    "def find_sentiment(stars, reviewText):\n",
    "    #pass in corpus to textblob obj\n",
    "    review = TextBlob(reviewText)\n",
    "    \n",
    "    #convert review sentiment from [-1,1] to [0,5]\n",
    "    reviewScore = (review.sentiment[0] + 1) / 2\n",
    "    reviewScore = reviewScore * 5\n",
    "    \n",
    "    #return average of scores\n",
    "    score = (stars + reviewScore) / 2\n",
    "    return score\n",
    "    \n",
    "def Elite(row):\n",
    "    #return a 1.0 if the review was written in a year featured in the\n",
    "    #list of years the user was an elite member\n",
    "    if row['date'] in row['elite']:\n",
    "        return 1\n",
    "    else: return 0\n",
    "        \n",
    "    \n",
    "def convert_string_to_list(elite):\n",
    "    #Cast passed in text to a string\n",
    "    elite = str(elite)\n",
    "    if elite == \"NaN\" or elite == 'nan':\n",
    "        return\n",
    "    #Strip any whitespace on either side of string\n",
    "    elite.strip()\n",
    "    #Replace commas w spaces\n",
    "    elite_list = elite.split(',')    \n",
    "    out = []\n",
    "    #Append each substring separated w spaces \n",
    "    #as an item in our return list\n",
    "    for item in elite_list:\n",
    "        out.append(int(item))\n",
    "    return list(out)"
   ]
  },
  {
   "cell_type": "markdown",
   "metadata": {},
   "source": [
    "We continued cleaning data by applying functions that will make the numerical operations and other logical operations on data easier (e.g averaging, checking for list membership, creating indicator for overall sentiment.) Here we define sentiment on a scale of 1-5, with 1 being very negative and 5 being very positive"
   ]
  },
  {
   "cell_type": "code",
   "execution_count": null,
   "metadata": {},
   "outputs": [],
   "source": [
    "#Want to convert string values to int before dropping nulls\n",
    "df_user['elite'] = df_user['elite'].apply(convert_string_to_list)\n",
    "\n",
    "#Want to drop any columns where the user has never been an elite member\n",
    "df_user.dropna(subset =['elite'],inplace=True)\n",
    "\n",
    "#Apply function to obtain year from date in both dataframes\n",
    "df_review['date'] = df_review['date'].apply(getYear)\n",
    "\n",
    "#Want to merge our user and review data now that we've dropped unnecessary rows and columns\n",
    "df = pd.merge(df_user,df_review,on='user_id',how='right')\n",
    "\n",
    "#Drop all rows with users who have never been an elite user\n",
    "df.dropna(subset =['elite'],inplace=True)\n",
    "\n",
    "#Apply function to find if reviewer was elite at the time of their review\n",
    "df['Elite_Reviewer'] = df.apply(lambda row: Elite(row), axis=1)\n",
    "\n",
    "#Apply function to find sentiment for each review in df_review\n",
    "df['critical_index'] = df.apply(lambda row: find_sentiment(row['stars'], row['text']), axis=1)"
   ]
  },
  {
   "cell_type": "markdown",
   "metadata": {},
   "source": [
    "Now that we've cleaned the data and prepared it for the anaylses we want to conduct, we can preview it and get an idea of what sentiments we see ocurring more frequently than others"
   ]
  },
  {
   "cell_type": "code",
   "execution_count": null,
   "metadata": {},
   "outputs": [],
   "source": [
    "df.head(20)"
   ]
  },
  {
   "cell_type": "markdown",
   "metadata": {},
   "source": [
    "# 3. Data Visualization:"
   ]
  },
  {
   "cell_type": "code",
   "execution_count": null,
   "metadata": {},
   "outputs": [],
   "source": [
    "#create and label boxplot\n",
    "elite_reviews = df.loc[df['Elite_Reviewer'] == True]['critical_index']\n",
    "reviews = df.loc[df['Elite_Reviewer'] == False]['critical_index']\n",
    "\n",
    "data = [reviews, elite_reviews]\n",
    "fig, ax = plt.subplots()\n",
    "ax.boxplot(data)\n",
    "ax.set_xlabel('Not Elite and Elite Reviews')\n",
    "ax.set_ylabel('Sentiment Index')\n",
    "\n",
    "plt.show()\n",
    "\n",
    "#calculate average sentiment among reviews\n",
    "elite_sentiment = np.mean(elite_reviews)\n",
    "not_elite_sentiment = np.mean(reviews)\n",
    "\n",
    "print(elite_sentiment)\n",
    "print(not_elite_sentiment)"
   ]
  },
  {
   "cell_type": "markdown",
   "metadata": {},
   "source": [
    "# 4. Data Analysis and Results:"
   ]
  },
  {
   "cell_type": "code",
   "execution_count": null,
   "metadata": {},
   "outputs": [],
   "source": [
    "#Function fits a curve through plotted data points \n",
    "res_1 = smf.glm(\"Elite_Reviewer ~ critical_index\", data = df, family=sm.families.Binomial()).fit()\n",
    "res_1.summary()"
   ]
  },
  {
   "cell_type": "markdown",
   "metadata": {},
   "source": [
    "**Summary Below -- Pls fill in a little more**\n",
    "**The likelihood of observing such a coefficient (-0.0797) when there is in fact no relationship between elite status and sentiment is higher than our alpha level of .05. Therefore we fail to reject the null hypothesis that there is no relationship between the two variables in question.**"
   ]
  },
  {
   "cell_type": "markdown",
   "metadata": {},
   "source": [
    "# 5. Conclusions and Discussion:\n",
    "\n",
    "After visualizing and analyzing our data, we conclude that there is not sufficient evidence to indicate that there is a relationship between Elite status and sentiment. As such, we fail to reject the null hypothesis that there is no relationship between the two variables in question. Our initial intuition that being an Elite member would correlate with leaving more critical reviews was not statistically significant because the likelihood of observing a coefficient of -0.0797 when there is in fact no relationship between Elite status and sentiment is higher than our alpha level of .05. Furthermore, the distribution of sentiments among Elite reviews and non Elite reviews from the users analyzed are very similar, meaning that the “Elite” status can not be used as an indicator of writing more critical reviews. \n",
    "\n",
    "As a result of the data we used and the processes we did not complete, there are several confounds in our work. In our methods, we analyzed all Yelp users who have ever been Elite and compared their reviews from before they were Elite and after they were Elite. We did not analyze the broader set of Yelp users who have never been given the Elite title. Because of this, it may be that users who were given the Elite title at one point tend to give more critical reviews than other Yelp reviewers. Furthermore, the Yelp academic dataset that we pulled our two datasets from does not include user data from all the countrie Yelp is available, meaning that there may be relevant Elite data that we could have analyzed, but did not have access to. \n",
    "\n",
    "In the future, our team can compare users who have been given the Elite title at some point to the broader pool of Yelp users and their reviews. This will allow us to solidify our conclusion that the Elite title does correlate with the sentiment of a review. Similarly, we can analyze the sentiment of the “average” Yelp review for a geographical region or area which may provide valuable information to businesses which rely on Yelp to bring in new customers. \n"
   ]
  }
 ],
 "metadata": {
  "kernelspec": {
   "display_name": "Python 3",
   "language": "python",
   "name": "python3"
  },
  "language_info": {
   "codemirror_mode": {
    "name": "ipython",
    "version": 3
   },
   "file_extension": ".py",
   "mimetype": "text/x-python",
   "name": "python",
   "nbconvert_exporter": "python",
   "pygments_lexer": "ipython3",
   "version": "3.6.8"
  }
 },
 "nbformat": 4,
 "nbformat_minor": 2
}
